{
  "nbformat": 4,
  "nbformat_minor": 0,
  "metadata": {
    "colab": {
      "name": "Exps on subset 2.ipynb",
      "provenance": [],
      "collapsed_sections": [
        "Tse4tfn2Ue4I",
        "CfZfAuYWf1iP",
        "16DuBIJLyFlj",
        "tmignpirSogw",
        "FcevSNB1TJhy",
        "TNlaUzALtyH0",
        "7UTM8dn1f_jc",
        "KXFxXahtLAxV",
        "S8Rkkhtj08Yj"
      ],
      "toc_visible": true,
      "authorship_tag": "ABX9TyOaucMj1Js59zzDgr2KseRI",
      "include_colab_link": true
    },
    "kernelspec": {
      "name": "python3",
      "display_name": "Python 3"
    },
    "language_info": {
      "name": "python"
    }
  },
  "cells": [
    {
      "cell_type": "markdown",
      "metadata": {
        "id": "view-in-github",
        "colab_type": "text"
      },
      "source": [
        "<a href=\"https://colab.research.google.com/github/jwang44/Plucking-Style-Detection/blob/main/Exps_on_subset_2.ipynb\" target=\"_parent\"><img src=\"https://colab.research.google.com/assets/colab-badge.svg\" alt=\"Open In Colab\"/></a>"
      ]
    },
    {
      "cell_type": "code",
      "metadata": {
        "colab": {
          "base_uri": "https://localhost:8080/"
        },
        "id": "jIRN3f8QLeY0",
        "outputId": "567e6ef8-4347-4233-f424-8fbb2501d458"
      },
      "source": [
        "from google.colab import drive\n",
        "drive.mount('/content/drive')"
      ],
      "execution_count": null,
      "outputs": [
        {
          "output_type": "stream",
          "text": [
            "Mounted at /content/drive\n"
          ],
          "name": "stdout"
        }
      ]
    },
    {
      "cell_type": "markdown",
      "metadata": {
        "id": "Tse4tfn2Ue4I"
      },
      "source": [
        "## Preparation"
      ]
    },
    {
      "cell_type": "code",
      "metadata": {
        "id": "MQgdVcR-jj7X",
        "colab": {
          "base_uri": "https://localhost:8080/"
        },
        "outputId": "3cbacf62-445d-468e-9a03-15e150cb3d7f"
      },
      "source": [
        "!pip install essentia\n",
        "!pip install pydub"
      ],
      "execution_count": null,
      "outputs": [
        {
          "output_type": "stream",
          "text": [
            "Collecting essentia\n",
            "\u001b[?25l  Downloading https://files.pythonhosted.org/packages/71/fd/cbb601736ebdf5bfdaf8d215e7741b76b6519371ddf1f64427cf275af05d/essentia-2.1b6.dev374-cp37-cp37m-manylinux1_x86_64.whl (12.0MB)\n",
            "\u001b[K     |████████████████████████████████| 12.0MB 6.7MB/s \n",
            "\u001b[?25hRequirement already satisfied: six in /usr/local/lib/python3.7/dist-packages (from essentia) (1.15.0)\n",
            "Requirement already satisfied: numpy>=1.8.2 in /usr/local/lib/python3.7/dist-packages (from essentia) (1.19.5)\n",
            "Requirement already satisfied: pyyaml in /usr/local/lib/python3.7/dist-packages (from essentia) (3.13)\n",
            "Installing collected packages: essentia\n",
            "Successfully installed essentia-2.1b6.dev374\n",
            "Collecting pydub\n",
            "  Downloading https://files.pythonhosted.org/packages/a6/53/d78dc063216e62fc55f6b2eebb447f6a4b0a59f55c8406376f76bf959b08/pydub-0.25.1-py2.py3-none-any.whl\n",
            "Installing collected packages: pydub\n",
            "Successfully installed pydub-0.25.1\n"
          ],
          "name": "stdout"
        }
      ]
    },
    {
      "cell_type": "code",
      "metadata": {
        "id": "IJbPMOX3jj7Z"
      },
      "source": [
        "import numpy as np\n",
        "import pickle\n",
        "import glob, os\n",
        "\n",
        "from collections import Counter\n",
        "from statistics import stdev\n",
        "import matplotlib.pyplot as plt  \n",
        "\n",
        "import essentia\n",
        "from essentia.standard import *\n",
        "\n",
        "import xml.etree.ElementTree as ET\n",
        "from pydub import AudioSegment"
      ],
      "execution_count": null,
      "outputs": []
    },
    {
      "cell_type": "markdown",
      "metadata": {
        "id": "CfZfAuYWf1iP"
      },
      "source": [
        "## String number estimation using Dataset2"
      ]
    },
    {
      "cell_type": "markdown",
      "metadata": {
        "id": "16DuBIJLyFlj"
      },
      "source": [
        "#### Split licks in Dataset 2 into single notes\n",
        "\n",
        "Dataset 2 contains several versions of 12 realistic guitar phrases. \n",
        "\n",
        "We discard the polyphonic ones"
      ]
    },
    {
      "cell_type": "code",
      "metadata": {
        "id": "CWJ_ftNEzYqI"
      },
      "source": [
        "AUDIO_DIR = '/content/drive/MyDrive/IDMT-SMT-GUITAR_V2/dataset2/audio/*.wav'\n",
        "ANNO_DIR = '/content/drive/MyDrive/IDMT-SMT-GUITAR_V2/dataset2/annotation'\n",
        "NOTE_DIR = '/content/drive/MyDrive/IDMT-SMT-GUITAR_V2/Notes_string'\n",
        "\n",
        "LICK7 = '/content/drive/MyDrive/IDMT-SMT-GUITAR_V2/dataset2/audio/*_Lick7_*.wav'\n",
        "LICK8 = '/content/drive/MyDrive/IDMT-SMT-GUITAR_V2/dataset2/audio/*_Lick8_*.wav'\n",
        "LICK9 = '/content/drive/MyDrive/IDMT-SMT-GUITAR_V2/dataset2/audio/*_Lick9_*.wav'\n",
        "LICK10 = '/content/drive/MyDrive/IDMT-SMT-GUITAR_V2/dataset2/audio/*_Lick10_*.wav'\n",
        "LICK12 = '/content/drive/MyDrive/IDMT-SMT-GUITAR_V2/dataset2/audio/*_Lick12_*.wav'\n",
        "\n",
        "MONO = set(glob.iglob(AUDIO_DIR)) - set(glob.iglob(LICK7)) - set(glob.iglob(LICK8)) - set(glob.iglob(LICK9)) - set(glob.iglob(LICK10)) - set(glob.iglob(LICK12))\n",
        "\n",
        "# iterate over phrases in dataset2 and split them into single notes with informative file names\n",
        "\n",
        "for audio_file in MONO:\n",
        "  print(audio_file)\n",
        "  audio = AudioSegment.from_wav(audio_file)\n",
        "\n",
        "  anno_file = os.path.splitext(os.path.basename(audio_file))[0]+'.xml'\n",
        "  anno_file = os.path.join(ANNO_DIR, anno_file)\n",
        "  tree = ET.parse(anno_file)\n",
        "  root = tree.getroot()\n",
        "  for event in root[1]:\n",
        "    onset = float(event[0].text)\n",
        "    pitch = int(event[1].text)\n",
        "    offset = float(event[2].text)\n",
        "    excitation_style = event[3].text\n",
        "    expression_style = event[4].text\n",
        "    fret = int(event[5].text)\n",
        "    string = int(event[6].text)\n",
        "    note_audio = audio[onset*1000:offset*1000]\n",
        "    note_audio.export(os.path.join(NOTE_DIR, '{}_{}_{}_{}.wav'.format(excitation_style, pitch, string, onset)), format=\"wav\")\n"
      ],
      "execution_count": null,
      "outputs": []
    },
    {
      "cell_type": "code",
      "metadata": {
        "colab": {
          "base_uri": "https://localhost:8080/"
        },
        "id": "Yqc9ImDqNvL2",
        "outputId": "d28d15aa-8e5f-4def-a56d-199801403e6a"
      },
      "source": [
        "%cd '/content/drive/MyDrive/IDMT-SMT-GUITAR_V2/Notes_string'\n",
        "!ls | wc -l"
      ],
      "execution_count": null,
      "outputs": [
        {
          "output_type": "stream",
          "text": [
            "/content/drive/MyDrive/IDMT-SMT-GUITAR_V2/Notes_string\n",
            "2988\n"
          ],
          "name": "stdout"
        }
      ]
    },
    {
      "cell_type": "markdown",
      "metadata": {
        "id": "tmignpirSogw"
      },
      "source": [
        "#### Feature extraction on single note recordings and save features and labels to pickle"
      ]
    },
    {
      "cell_type": "code",
      "metadata": {
        "id": "-3oYBs0jTNCR"
      },
      "source": [
        "from essentia.standard import *\n",
        "w = Windowing(type = 'hann')\n",
        "spectrum = Spectrum()\n",
        "spectral_centroid = SpectralCentroidTime()\n",
        "mfcc = MFCC()"
      ],
      "execution_count": null,
      "outputs": []
    },
    {
      "cell_type": "code",
      "metadata": {
        "id": "BPoQFAAP6CkV"
      },
      "source": [
        "NOTE_DIR = '/content/drive/MyDrive/IDMT-SMT-GUITAR_V2/Notes_string/*.wav'\n",
        "# iterate over all single notes in dataset2 (split in previous cells)\n",
        "i=0\n",
        "\n",
        "data = []\n",
        "excitation_labels = []\n",
        "pitch_labels = []\n",
        "string_labels = []\n",
        "\n",
        "for audio_file in glob.iglob(NOTE_DIR):\n",
        "  excitation_label = os.path.basename(audio_file).split('_')[0]\n",
        "  pitch_label = os.path.basename(audio_file).split('_')[1]\n",
        "  string_label = os.path.basename(audio_file).split('_')[2]\n",
        "\n",
        "  audio = MonoLoader(filename=audio_file)()\n",
        "  pool = essentia.Pool()\n",
        "  for frame in FrameGenerator(audio, frameSize=1024, hopSize=512, startFromZero=True):\n",
        "      _, mfcc_coeffs = mfcc(spectrum(w(frame)))\n",
        "      # add frame-level features to the pool\n",
        "      pool.add('mfcc', mfcc_coeffs)\n",
        "  # compute statistics of the features\n",
        "  aggr_pool = PoolAggregator(defaultStats = ['min', 'max', 'median', 'mean', 'var', 'skew', 'kurt'])(pool)\n",
        "  # add note-level features\n",
        "  # centroid = spectral_centroid(audio)\n",
        "  # pitch = int(pitch_label)\n",
        "  # f0 = (2 ** ((pitch-69)/12))*440\n",
        "  # aggr_pool.add('centroid', centroid)\n",
        "  # aggr_pool.add('f0', f0)\n",
        "\n",
        "  feature = np.array([])\n",
        "  for key in aggr_pool.descriptorNames():\n",
        "    feature = np.concatenate((feature, aggr_pool[key]))\n",
        "  data.append(feature)\n",
        "\n",
        "  excitation_labels.append(excitation_label)\n",
        "  pitch_labels.append(int(pitch_label))\n",
        "  string_labels.append(int(string_label))\n",
        "\n",
        "  i+=1\n",
        "  if i%200==0:\n",
        "    print(i)\n"
      ],
      "execution_count": null,
      "outputs": []
    },
    {
      "cell_type": "code",
      "metadata": {
        "colab": {
          "base_uri": "https://localhost:8080/"
        },
        "id": "D6ZqqcJywEMC",
        "outputId": "98cb9e68-1af5-4d92-9623-62de6c0450e5"
      },
      "source": [
        "print(len(data))\n",
        "print(len(excitation_labels))\n",
        "print(len(pitch_labels))\n",
        "print(len(string_labels))"
      ],
      "execution_count": null,
      "outputs": [
        {
          "output_type": "stream",
          "text": [
            "2988\n",
            "2988\n",
            "2988\n",
            "2988\n"
          ],
          "name": "stdout"
        }
      ]
    },
    {
      "cell_type": "code",
      "metadata": {
        "colab": {
          "base_uri": "https://localhost:8080/"
        },
        "id": "TO9elufrwmV8",
        "outputId": "e75f666f-effd-4169-a14c-66bc9f351769"
      },
      "source": [
        "from collections import Counter\n",
        "print(Counter(excitation_labels))\n",
        "print(Counter(pitch_labels))\n",
        "print(Counter(string_labels))"
      ],
      "execution_count": null,
      "outputs": [
        {
          "output_type": "stream",
          "text": [
            "Counter({'PK': 1478, 'MU': 795, 'FS': 715})\n",
            "Counter({62: 306, 64: 300, 69: 224, 48: 173, 67: 144, 57: 142, 59: 141, 60: 140, 61: 137, 50: 133, 55: 113, 52: 113, 66: 108, 54: 104, 45: 89, 56: 77, 53: 65, 74: 55, 72: 42, 58: 36, 65: 35, 71: 33, 73: 27, 78: 27, 47: 27, 49: 26, 63: 24, 68: 18, 83: 15, 43: 15, 70: 12, 76: 9, 51: 9, 75: 9, 79: 9, 87: 6, 92: 6, 46: 6, 77: 6, 40: 3, 41: 3, 42: 3, 44: 3, 88: 3, 80: 3, 81: 3, 82: 3, 84: 3})\n",
            "Counter({4: 771, 5: 599, 2: 562, 3: 527, 6: 322, 1: 207})\n"
          ],
          "name": "stdout"
        }
      ]
    },
    {
      "cell_type": "code",
      "metadata": {
        "id": "AguNCHwU0p6J"
      },
      "source": [
        "with open('/content/drive/MyDrive/dataset2_pkl_mono/MFCC.pkl', 'wb') as file:\n",
        "    pickle.dump(data, file)\n",
        "with open('/content/drive/MyDrive/dataset2_pkl_mono/EXCI_LABEL.pkl', 'wb') as file:\n",
        "    pickle.dump(excitation_labels, file)\n",
        "with open('/content/drive/MyDrive/dataset2_pkl_mono/STR_LABEL.pkl', 'wb') as file:\n",
        "    pickle.dump(string_labels, file)\n",
        "with open('/content/drive/MyDrive/dataset2_pkl_mono/PITCH_LABEL.pkl', 'wb') as file:\n",
        "    pickle.dump(pitch_labels, file)"
      ],
      "execution_count": null,
      "outputs": []
    },
    {
      "cell_type": "markdown",
      "metadata": {
        "id": "FcevSNB1TJhy"
      },
      "source": [
        "#### Load features and labels"
      ]
    },
    {
      "cell_type": "code",
      "metadata": {
        "id": "EEmZpwSUtyH0"
      },
      "source": [
        "from sklearn.preprocessing import LabelEncoder, StandardScaler\n",
        "from sklearn.svm import SVC, LinearSVC\n",
        "from sklearn.pipeline import make_pipeline\n",
        "from sklearn.model_selection import KFold, train_test_split, GridSearchCV\n",
        "from sklearn.utils import shuffle\n",
        "from statistics import stdev"
      ],
      "execution_count": null,
      "outputs": []
    },
    {
      "cell_type": "code",
      "metadata": {
        "id": "CmS2kleR2Ux8"
      },
      "source": [
        "with open('/content/drive/MyDrive/dataset2_pkl_mono/MFCC.pkl', 'rb') as file:\n",
        "    data = pickle.load(file)\n",
        "with open('/content/drive/MyDrive/dataset2_pkl_mono/STR_LABEL.pkl', 'rb') as file:\n",
        "    string_labels = pickle.load(file)"
      ],
      "execution_count": null,
      "outputs": []
    },
    {
      "cell_type": "code",
      "metadata": {
        "colab": {
          "base_uri": "https://localhost:8080/"
        },
        "id": "FNRd9WOr3CsK",
        "outputId": "5d22244c-3158-4ccf-d4e3-8a6cdeeec307"
      },
      "source": [
        "print(Counter(excitation_labels))\n",
        "print(Counter(pitch_labels))\n",
        "print(Counter(string_labels))"
      ],
      "execution_count": null,
      "outputs": [
        {
          "output_type": "stream",
          "text": [
            "Counter({'PK': 1478, 'MU': 795, 'FS': 715})\n",
            "Counter({62: 306, 64: 300, 69: 224, 48: 173, 67: 144, 57: 142, 59: 141, 60: 140, 61: 137, 50: 133, 55: 113, 52: 113, 66: 108, 54: 104, 45: 89, 56: 77, 53: 65, 74: 55, 72: 42, 58: 36, 65: 35, 71: 33, 73: 27, 78: 27, 47: 27, 49: 26, 63: 24, 68: 18, 83: 15, 43: 15, 70: 12, 76: 9, 51: 9, 75: 9, 79: 9, 87: 6, 92: 6, 46: 6, 77: 6, 40: 3, 41: 3, 42: 3, 44: 3, 88: 3, 80: 3, 81: 3, 82: 3, 84: 3})\n",
            "Counter({4: 771, 5: 599, 2: 562, 3: 527, 6: 322, 1: 207})\n"
          ],
          "name": "stdout"
        }
      ]
    },
    {
      "cell_type": "code",
      "metadata": {
        "id": "0Af6fD6Ze8FZ"
      },
      "source": [
        "data = np.vstack(data) \n",
        "le = LabelEncoder()\n",
        "string_labels = le.fit_transform(string_labels) # convert category from string to numerical"
      ],
      "execution_count": null,
      "outputs": []
    },
    {
      "cell_type": "markdown",
      "metadata": {
        "id": "TNlaUzALtyH0"
      },
      "source": [
        "#### Train monophonic string number classifier"
      ]
    },
    {
      "cell_type": "code",
      "metadata": {
        "id": "qIBUoA4A4oV6"
      },
      "source": [
        "# split into train and test\n",
        "X = data\n",
        "y = string_labels\n",
        "X_train, X_test, y_train, y_test = train_test_split(X, y, test_size=0.2, shuffle=True, random_state=42)"
      ],
      "execution_count": null,
      "outputs": []
    },
    {
      "cell_type": "code",
      "metadata": {
        "id": "WUapiVOZ8Ohh"
      },
      "source": [
        "model = make_pipeline(StandardScaler(), SVC())\n",
        "parameters = {\n",
        "    'svc__kernel': ['linear', 'poly', 'rbf', 'sigmoid'], \n",
        "    'svc__C':[0.2, 1, 5], \n",
        "    'svc__gamma': ['scale', 'auto']\n",
        "    }\n",
        "clf = GridSearchCV(model, parameters, n_jobs=-1, refit=True, cv=10, return_train_score=True)\n",
        "clf.fit(X_train, y_train)"
      ],
      "execution_count": null,
      "outputs": []
    },
    {
      "cell_type": "code",
      "metadata": {
        "id": "KMs29PIaAh4m"
      },
      "source": [
        "clf.cv_results_"
      ],
      "execution_count": null,
      "outputs": []
    },
    {
      "cell_type": "code",
      "metadata": {
        "colab": {
          "base_uri": "https://localhost:8080/"
        },
        "id": "NS6T1lSwAIWI",
        "outputId": "b3ec8ffd-c24b-48f6-f9cd-e392a7a5889b"
      },
      "source": [
        "clf.score(X_test, y_test)"
      ],
      "execution_count": null,
      "outputs": [
        {
          "output_type": "execute_result",
          "data": {
            "text/plain": [
              "0.9147157190635451"
            ]
          },
          "metadata": {
            "tags": []
          },
          "execution_count": 30
        }
      ]
    },
    {
      "cell_type": "code",
      "metadata": {
        "colab": {
          "base_uri": "https://localhost:8080/"
        },
        "id": "7gz5i49E_Px5",
        "outputId": "b630aa92-d44f-4ece-ef6a-ba29786bb918"
      },
      "source": [
        "clf.best_params_"
      ],
      "execution_count": null,
      "outputs": [
        {
          "output_type": "execute_result",
          "data": {
            "text/plain": [
              "{'svc__C': 5, 'svc__gamma': 'scale', 'svc__kernel': 'rbf'}"
            ]
          },
          "metadata": {
            "tags": []
          },
          "execution_count": 31
        }
      ]
    },
    {
      "cell_type": "code",
      "metadata": {
        "id": "fsjB2pJ8tyH4"
      },
      "source": [
        "# Sanity check use normal Kfold\n",
        "X = X_train\n",
        "y = y_train\n",
        "model = make_pipeline(StandardScaler(), SVC(C=5, gamma='scale'))\n",
        "kf = KFold(n_splits=10, shuffle=True, random_state=42)\n",
        "train_accus = []\n",
        "val_accus = []\n",
        "for train_index, val_index in kf.split(X):\n",
        "    X_train, X_val = X[train_index], X[val_index]\n",
        "    y_train, y_val = y[train_index], y[val_index]\n",
        "    model.fit(X_train, y_train)\n",
        "    train_accus.append(model.score(X_train, y_train))\n",
        "    val_accus.append(model.score(X_val, y_val))\n",
        "train_accus = np.array(train_accus)\n",
        "val_accus = np.array(val_accus)\n",
        "print(\"-------------Monophonic String Number Classification---------------\")\n",
        "print(\"train accu: \", train_accus.mean(), \"Std dev: \", stdev(train_accus))\n",
        "print(\"val accu: \", val_accus.mean(), \"Std dev: \", stdev(val_accus))\n",
        "print(\"test accu: \", model.score(X_test, y_test))"
      ],
      "execution_count": null,
      "outputs": []
    },
    {
      "cell_type": "markdown",
      "metadata": {
        "id": "7UTM8dn1f_jc"
      },
      "source": [
        "## Pitch Estimation on Dataset 2"
      ]
    },
    {
      "cell_type": "markdown",
      "metadata": {
        "id": "JD8D09g_geRC"
      },
      "source": [
        "Get a single note audio. \n",
        "\n",
        "Use MultiPitch to get a list of arrays (the estimated f0s corresponding to each frame). \n",
        "\n",
        "Convert all estimated freqs to midi note number\n",
        "\n",
        "Round the midi note numbers\n",
        "\n",
        "Round the estimated frequencies\n",
        "\n",
        "Convert items in lists from array to tuple, so that they're hashable and can do majority voting\n",
        "\n",
        "Use majority voting to decide on the final pitch(es) for the single pluck"
      ]
    },
    {
      "cell_type": "markdown",
      "metadata": {
        "id": "KXFxXahtLAxV"
      },
      "source": [
        "#### Estimate pitch on dataset2 single notes"
      ]
    },
    {
      "cell_type": "code",
      "metadata": {
        "id": "hZ-lh7xmwmdA"
      },
      "source": [
        "with open('/content/drive/MyDrive/dataset2_pkl_mono/PITCH_LABEL.pkl', 'rb') as file:\n",
        "    pitch_labels = pickle.load(file)"
      ],
      "execution_count": null,
      "outputs": []
    },
    {
      "cell_type": "code",
      "metadata": {
        "id": "xq2aWfuILFRl",
        "colab": {
          "base_uri": "https://localhost:8080/"
        },
        "outputId": "ebe1414e-6f95-4f78-b1bc-d0da443dbcd4"
      },
      "source": [
        "AUDIO_DIR = '/content/drive/MyDrive/IDMT-SMT-GUITAR_V2/Notes_string/*.wav'\n",
        "from essentia.standard import MultiPitchKlapuri, PitchMelodia, PitchYin\n",
        "i=0\n",
        "correct = 0\n",
        "\n",
        "for audio_file in glob.iglob(AUDIO_DIR):\n",
        "  # pitch label in str\n",
        "  pitch_label = int(pitch_labels[i])\n",
        "  audio = MonoLoader(filename=audio_file)()\n",
        "  mp = MultiPitchKlapuri()\n",
        "  # pitchyin = PitchYin()\n",
        "  freqs = mp(audio) # this is a list of arrays\n",
        "\n",
        "  notes = []\n",
        "  for freq_array in freqs:\n",
        "    note_array = np.round(12*np.log2(freq_array/440)+69)\n",
        "    note_tuple = tuple(note_array)\n",
        "    notes.append(note_tuple)\n",
        "\n",
        "  pitch_pred = max(set(notes), key=notes.count)\n",
        "  if pitch_label == pitch_pred[0]:\n",
        "    correct+=1\n",
        "\n",
        "  i+=1\n",
        "  if i%50==0:\n",
        "    print(i)\n",
        "\n",
        "print(\"Pitch Estimation accuracy: \", correct/i)\n"
      ],
      "execution_count": null,
      "outputs": [
        {
          "output_type": "stream",
          "text": [
            "50\n",
            "100\n",
            "150\n",
            "200\n",
            "250\n",
            "300\n",
            "350\n",
            "400\n",
            "450\n",
            "500\n",
            "550\n",
            "600\n",
            "650\n",
            "700\n",
            "750\n",
            "800\n",
            "850\n",
            "900\n",
            "950\n",
            "1000\n",
            "1050\n",
            "1100\n",
            "1150\n",
            "1200\n",
            "1250\n",
            "1300\n",
            "1350\n",
            "1400\n",
            "1450\n",
            "1500\n",
            "1550\n",
            "1600\n",
            "1650\n",
            "1700\n",
            "1750\n",
            "1800\n",
            "1850\n",
            "1900\n",
            "1950\n",
            "2000\n",
            "2050\n",
            "2100\n",
            "2150\n",
            "2200\n",
            "2250\n",
            "2300\n",
            "2350\n",
            "2400\n",
            "2450\n",
            "2500\n",
            "2550\n",
            "2600\n",
            "2650\n",
            "2700\n",
            "2750\n",
            "2800\n",
            "2850\n",
            "2900\n",
            "2950\n",
            "Pitch Estimation accuracy:  0.8530789825970548\n"
          ],
          "name": "stdout"
        }
      ]
    },
    {
      "cell_type": "markdown",
      "metadata": {
        "id": "W31Q_QnA08Yf"
      },
      "source": [
        "## Plucking Style classification"
      ]
    },
    {
      "cell_type": "markdown",
      "metadata": {
        "id": "S8Rkkhtj08Yj"
      },
      "source": [
        "#### Split licks in Dataset 2 into single notes"
      ]
    },
    {
      "cell_type": "code",
      "metadata": {
        "id": "EpujG7LL08Yk"
      },
      "source": [
        "AUDIO_DIR = '/content/drive/MyDrive/IDMT-SMT-GUITAR_V2/dataset2/audio/*.wav'\n",
        "ANNO_DIR = '/content/drive/MyDrive/IDMT-SMT-GUITAR_V2/dataset2/annotation'\n",
        "NOTE_DIR = '/content/drive/MyDrive/IDMT-SMT-GUITAR_V2/Notes_pluck'\n",
        "# iterate over all files in dataset2 and split them into single notes with informative file names\n",
        "import glob, os\n",
        "import xml.etree.ElementTree as ET\n",
        "from pydub import AudioSegment\n",
        "\n",
        "for audio_file in glob.iglob(AUDIO_DIR):\n",
        "  audio = AudioSegment.from_wav(audio_file)\n",
        "\n",
        "  anno_file = os.path.splitext(os.path.basename(audio_file))[0]+'.xml'\n",
        "  anno_file = os.path.join(ANNO_DIR, anno_file)\n",
        "  tree = ET.parse(anno_file)\n",
        "  root = tree.getroot()\n",
        "  for event in root[1]:\n",
        "    onset = float(event[0].text)\n",
        "    pitch = int(event[1].text)\n",
        "    offset = float(event[2].text)\n",
        "    excitation_style = event[3].text\n",
        "    expression_style = event[4].text\n",
        "    fret = int(event[5].text)\n",
        "    string = int(event[6].text)\n",
        "    note_audio = audio[onset*1000:offset*1000]\n",
        "    note_audio.export(os.path.join(NOTE_DIR, '{}_{}_{}_{}.wav'.format(excitation_style, pitch, string, onset)), format=\"wav\")\n"
      ],
      "execution_count": null,
      "outputs": []
    },
    {
      "cell_type": "code",
      "metadata": {
        "colab": {
          "base_uri": "https://localhost:8080/"
        },
        "id": "RQOrg9CN08Yk",
        "outputId": "60af05a4-c714-40a0-9c15-dd018fb4652f"
      },
      "source": [
        "%cd '/content/drive/MyDrive/IDMT-SMT-GUITAR_V2/Notes_Renamed'\n",
        "!ls | wc -l"
      ],
      "execution_count": null,
      "outputs": [
        {
          "output_type": "stream",
          "text": [
            "/content/drive/MyDrive/IDMT-SMT-GUITAR_V2/Notes_Renamed\n",
            "4812\n"
          ],
          "name": "stdout"
        }
      ]
    },
    {
      "cell_type": "code",
      "metadata": {
        "colab": {
          "base_uri": "https://localhost:8080/"
        },
        "id": "7PAhz4OLNxq0",
        "outputId": "2e63e6c4-5607-4eb0-eef0-40b779d517de"
      },
      "source": [
        "FS = len(glob.glob1('/content/drive/MyDrive/IDMT-SMT-GUITAR_V2/Notes_Renamed', 'FS*'))\n",
        "PK = len(glob.glob1('/content/drive/MyDrive/IDMT-SMT-GUITAR_V2/Notes_Renamed', 'PK*'))\n",
        "MU = len(glob.glob1('/content/drive/MyDrive/IDMT-SMT-GUITAR_V2/Notes_Renamed', 'MU*'))\n",
        "print('Fingerstyle: ', FS)  # 1309\n",
        "print('Picked: ', PK) # 2085\n",
        "print('Muted: ', MU)  # 1397\n",
        "print('Total: ', FS+PK+MU)  # 4791"
      ],
      "execution_count": null,
      "outputs": [
        {
          "output_type": "stream",
          "text": [
            "Fingerstyle:  1318\n",
            "Picked:  2090\n",
            "Muted:  1404\n",
            "Total:  4812\n"
          ],
          "name": "stdout"
        }
      ]
    },
    {
      "cell_type": "markdown",
      "metadata": {
        "id": "W2CNZLIl1gRp"
      },
      "source": [
        "#### Feature extraction on single note recordings and save features and labels to pickle"
      ]
    },
    {
      "cell_type": "code",
      "metadata": {
        "id": "lTMWVZum1gRq"
      },
      "source": [
        "from essentia.standard import *\n",
        "w = Windowing(type = 'hann')\n",
        "spectrum = Spectrum()\n",
        "spectral_centroid = SpectralCentroidTime()\n",
        "mfcc = MFCC()"
      ],
      "execution_count": null,
      "outputs": []
    },
    {
      "cell_type": "code",
      "metadata": {
        "id": "oD210sRA1gRq"
      },
      "source": [
        "NOTE_DIR = '/content/drive/MyDrive/IDMT-SMT-GUITAR_V2/Notes_pluck/*.wav'\n",
        "# iterate over all single notes in dataset2 (split in previous cells)\n",
        "import glob, os\n",
        "i=0\n",
        "\n",
        "data = []\n",
        "excitation_labels = []\n",
        "pitch_labels = []\n",
        "string_labels = []\n",
        "\n",
        "for audio_file in glob.iglob(NOTE_DIR):\n",
        "  excitation_label = os.path.basename(audio_file).split('_')[0]\n",
        "  pitch_label = os.path.basename(audio_file).split('_')[1]\n",
        "  string_label = os.path.basename(audio_file).split('_')[2]\n",
        "\n",
        "  audio = MonoLoader(filename=audio_file)()\n",
        "  pool = essentia.Pool()\n",
        "  for frame in FrameGenerator(audio, frameSize=1024, hopSize=512, startFromZero=True):\n",
        "      _, mfcc_coeffs = mfcc(spectrum(w(frame)))\n",
        "      centroid = spectral_centroid(w(frame))\n",
        "\n",
        "      # add frame-level features to the pool\n",
        "      pool.add('mfcc', mfcc_coeffs)\n",
        "      pool.add('spectral_centroid', essentia.array([centroid]))\n",
        "  # compute statistics of the features\n",
        "  aggr_pool = PoolAggregator(defaultStats = ['min', 'max', 'median', 'mean', 'var', 'skew', 'kurt'])(pool)\n",
        "  # add note-level features\n",
        "  # centroid = spectral_centroid(audio)\n",
        "  pitch = int(pitch_label)\n",
        "  f0 = (2 ** ((pitch-69)/12))*440\n",
        "  # aggr_pool.add('centroid', centroid)\n",
        "  aggr_pool.add('f0', f0)\n",
        "\n",
        "  feature = np.array([])\n",
        "  for key in aggr_pool.descriptorNames():\n",
        "    feature = np.concatenate((feature, aggr_pool[key]))\n",
        "  data.append(feature)\n",
        "\n",
        "  excitation_labels.append(excitation_label)\n",
        "  pitch_labels.append(int(pitch_label))\n",
        "  string_labels.append(int(string_label))\n",
        "\n",
        "  i+=1\n",
        "  if i%200==0:\n",
        "    print(i)\n"
      ],
      "execution_count": null,
      "outputs": []
    },
    {
      "cell_type": "code",
      "metadata": {
        "colab": {
          "base_uri": "https://localhost:8080/"
        },
        "id": "fP2WQQFq1gR2",
        "outputId": "2bae3310-7514-4f35-b8fd-30351cc8ba17"
      },
      "source": [
        "print(len(data))\n",
        "print(len(excitation_labels))\n",
        "print(len(pitch_labels))\n",
        "print(len(string_labels))"
      ],
      "execution_count": null,
      "outputs": [
        {
          "output_type": "stream",
          "text": [
            "4812\n",
            "4812\n",
            "4812\n",
            "4812\n"
          ],
          "name": "stdout"
        }
      ]
    },
    {
      "cell_type": "code",
      "metadata": {
        "colab": {
          "base_uri": "https://localhost:8080/"
        },
        "id": "6wL10qAd1gR2",
        "outputId": "943a279b-2f90-471c-fdcb-f4e3b4b42e5b"
      },
      "source": [
        "from collections import Counter\n",
        "print(Counter(excitation_labels))\n",
        "print(Counter(pitch_labels))\n",
        "print(Counter(string_labels))"
      ],
      "execution_count": null,
      "outputs": [
        {
          "output_type": "stream",
          "text": [
            "Counter({'PK': 2090, 'MU': 1404, 'FS': 1318})\n",
            "Counter({64: 440, 62: 387, 59: 345, 48: 302, 52: 300, 57: 289, 61: 260, 69: 250, 50: 240, 54: 229, 55: 219, 60: 184, 45: 167, 67: 162, 56: 137, 66: 117, 47: 97, 53: 83, 49: 80, 74: 55, 58: 54, 40: 47, 72: 42, 43: 42, 65: 35, 71: 33, 73: 27, 78: 27, 63: 24, 68: 18, 83: 15, 41: 12, 70: 12, 51: 9, 75: 9, 76: 9, 79: 9, 46: 6, 77: 6, 87: 6, 92: 6, 80: 3, 81: 3, 82: 3, 84: 3, 88: 3, 42: 3, 44: 3})\n",
            "Counter({4: 1105, 2: 1008, 3: 996, 5: 800, 6: 465, 1: 438})\n"
          ],
          "name": "stdout"
        }
      ]
    },
    {
      "cell_type": "code",
      "metadata": {
        "id": "OYyNkX971gR3"
      },
      "source": [
        "with open('/content/drive/MyDrive/dataset2_pkl/MFCC_CENTROID_F0.pkl', 'wb') as file:\n",
        "    pickle.dump(data, file)\n",
        "with open('/content/drive/MyDrive/dataset2_pkl/EXCI_LABEL.pkl', 'wb') as file:\n",
        "    pickle.dump(excitation_labels, file)\n",
        "with open('/content/drive/MyDrive/dataset2_pkl/STR_LABEL.pkl', 'wb') as file:\n",
        "    pickle.dump(string_labels, file)\n",
        "with open('/content/drive/MyDrive/dataset2_pkl/PITCH_LABEL.pkl', 'wb') as file:\n",
        "    pickle.dump(pitch_labels, file)"
      ],
      "execution_count": null,
      "outputs": []
    },
    {
      "cell_type": "markdown",
      "metadata": {
        "id": "zrIXFv-E1gR3"
      },
      "source": [
        "#### Load features and labels"
      ]
    },
    {
      "cell_type": "code",
      "metadata": {
        "id": "W6bC8gRE-19Q"
      },
      "source": [
        "from sklearn.preprocessing import Normalizer, LabelEncoder, StandardScaler\n",
        "from sklearn.svm import SVC, LinearSVC\n",
        "from sklearn.pipeline import make_pipeline\n",
        "from sklearn.model_selection import KFold, train_test_split, GridSearchCV\n",
        "from sklearn.utils import shuffle\n",
        "from statistics import stdev"
      ],
      "execution_count": null,
      "outputs": []
    },
    {
      "cell_type": "code",
      "metadata": {
        "id": "fDPie87V1gR3"
      },
      "source": [
        "with open('/content/drive/MyDrive/dataset2_pkl/MFCC_CENTROID_F0.pkl', 'rb') as file:\n",
        "    data = pickle.load(file)\n",
        "with open('/content/drive/MyDrive/dataset2_pkl/EXCI_LABEL.pkl', 'rb') as file:\n",
        "    excitation_labels = pickle.load(file)"
      ],
      "execution_count": null,
      "outputs": []
    },
    {
      "cell_type": "code",
      "metadata": {
        "colab": {
          "base_uri": "https://localhost:8080/"
        },
        "id": "wMcSkiyg1gR4",
        "outputId": "af1c58a2-3703-4aaa-c515-3b2ea0861f6f"
      },
      "source": [
        "print(Counter(excitation_labels))"
      ],
      "execution_count": null,
      "outputs": [
        {
          "output_type": "stream",
          "text": [
            "Counter({'PK': 2090, 'MU': 1404, 'FS': 1318})\n"
          ],
          "name": "stdout"
        }
      ]
    },
    {
      "cell_type": "code",
      "metadata": {
        "id": "ElXQI-wq1gR4"
      },
      "source": [
        "data = np.vstack(data)\n",
        "le = LabelEncoder()\n",
        "excitation_labels = le.fit_transform(excitation_labels) "
      ],
      "execution_count": null,
      "outputs": []
    },
    {
      "cell_type": "markdown",
      "metadata": {
        "id": "KiVYKO-ZUx73"
      },
      "source": [
        "#### Train plucking style classifier"
      ]
    },
    {
      "cell_type": "code",
      "metadata": {
        "id": "PJ7SNfXv2nqH"
      },
      "source": [
        "# split into train and test\n",
        "X = data\n",
        "y = excitation_labels\n",
        "X_train, X_test, y_train, y_test = train_test_split(X, y, test_size=0.2, shuffle=True, random_state=42)"
      ],
      "execution_count": null,
      "outputs": []
    },
    {
      "cell_type": "code",
      "metadata": {
        "colab": {
          "base_uri": "https://localhost:8080/"
        },
        "id": "H41HnjLO2nqT",
        "outputId": "85b33336-b549-40a1-e3d4-b09271e357e0"
      },
      "source": [
        "model = make_pipeline(StandardScaler(), SVC())\n",
        "parameters = {\n",
        "    'svc__kernel': ['linear', 'poly', 'rbf', 'sigmoid'], \n",
        "    'svc__C':[0.2, 1, 5], \n",
        "    'svc__gamma': ['scale', 'auto']\n",
        "    }\n",
        "clf = GridSearchCV(model, parameters, n_jobs=-1, refit=True, cv=10, return_train_score=True)\n",
        "clf.fit(X_train, y_train)"
      ],
      "execution_count": null,
      "outputs": [
        {
          "output_type": "execute_result",
          "data": {
            "text/plain": [
              "GridSearchCV(cv=10, error_score=nan,\n",
              "             estimator=Pipeline(memory=None,\n",
              "                                steps=[('standardscaler',\n",
              "                                        StandardScaler(copy=True,\n",
              "                                                       with_mean=True,\n",
              "                                                       with_std=True)),\n",
              "                                       ('svc',\n",
              "                                        SVC(C=1.0, break_ties=False,\n",
              "                                            cache_size=200, class_weight=None,\n",
              "                                            coef0=0.0,\n",
              "                                            decision_function_shape='ovr',\n",
              "                                            degree=3, gamma='scale',\n",
              "                                            kernel='rbf', max_iter=-1,\n",
              "                                            probability=False,\n",
              "                                            random_state=None, shrinking=True,\n",
              "                                            tol=0.001, verbose=False))],\n",
              "                                verbose=False),\n",
              "             iid='deprecated', n_jobs=-1,\n",
              "             param_grid={'svc__C': [0.2, 1, 5], 'svc__gamma': ['scale', 'auto'],\n",
              "                         'svc__kernel': ['linear', 'poly', 'rbf', 'sigmoid']},\n",
              "             pre_dispatch='2*n_jobs', refit=True, return_train_score=True,\n",
              "             scoring=None, verbose=0)"
            ]
          },
          "metadata": {
            "tags": []
          },
          "execution_count": 10
        }
      ]
    },
    {
      "cell_type": "code",
      "metadata": {
        "colab": {
          "base_uri": "https://localhost:8080/",
          "height": 299
        },
        "id": "KRDRyGwZ-jHZ",
        "outputId": "c280bba9-a842-427d-8a2d-7505ef456afe"
      },
      "source": [
        "from sklearn.metrics import confusion_matrix, plot_confusion_matrix\n",
        "plot_confusion_matrix(clf, X_test, y_test, display_labels=['FS', 'MU', 'PK'], values_format='d')  "
      ],
      "execution_count": null,
      "outputs": [
        {
          "output_type": "execute_result",
          "data": {
            "text/plain": [
              "<sklearn.metrics._plot.confusion_matrix.ConfusionMatrixDisplay at 0x7f15d3265510>"
            ]
          },
          "metadata": {
            "tags": []
          },
          "execution_count": 15
        },
        {
          "output_type": "display_data",
          "data": {
            "image/png": "[encoded data removed]",
            "text/plain": [
              "<Figure size 432x288 with 2 Axes>"
            ]
          },
          "metadata": {
            "tags": [],
            "needs_background": "light"
          }
        }
      ]
    },
    {
      "cell_type": "code",
      "metadata": {
        "colab": {
          "base_uri": "https://localhost:8080/"
        },
        "id": "ZKQzsCJP2nqU",
        "outputId": "fe486142-b3bf-4152-b1d2-e2be42f95c99"
      },
      "source": [
        "clf.score(X_test, y_test)"
      ],
      "execution_count": null,
      "outputs": [
        {
          "output_type": "execute_result",
          "data": {
            "text/plain": [
              "0.9231568016614745"
            ]
          },
          "metadata": {
            "tags": []
          },
          "execution_count": 16
        }
      ]
    },
    {
      "cell_type": "code",
      "metadata": {
        "colab": {
          "base_uri": "https://localhost:8080/"
        },
        "id": "SGOUkdb72nqV",
        "outputId": "7303a703-eafa-4055-916c-60c01cc9dfe9"
      },
      "source": [
        "clf.best_params_"
      ],
      "execution_count": null,
      "outputs": [
        {
          "output_type": "execute_result",
          "data": {
            "text/plain": [
              "{'svc__C': 5, 'svc__gamma': 'scale', 'svc__kernel': 'rbf'}"
            ]
          },
          "metadata": {
            "tags": []
          },
          "execution_count": 30
        }
      ]
    },
    {
      "cell_type": "code",
      "metadata": {
        "colab": {
          "base_uri": "https://localhost:8080/"
        },
        "id": "4DcwkYEl2nqV",
        "outputId": "3c3e60ac-4e2f-4575-9f1b-cca792e5b53d"
      },
      "source": [
        "# Sanity check use normal Kfold\n",
        "X = X_train\n",
        "y = y_train\n",
        "model = make_pipeline(StandardScaler(), SVC(C=5, gamma='scale'))\n",
        "kf = KFold(n_splits=10, shuffle=True, random_state=42)\n",
        "train_accus = []\n",
        "val_accus = []\n",
        "for train_index, val_index in kf.split(X):\n",
        "    X_train, X_val = X[train_index], X[val_index]\n",
        "    y_train, y_val = y[train_index], y[val_index]\n",
        "    model.fit(X_train, y_train)\n",
        "    train_accus.append(model.score(X_train, y_train))\n",
        "    val_accus.append(model.score(X_val, y_val))\n",
        "train_accus = np.array(train_accus)\n",
        "val_accus = np.array(val_accus)\n",
        "print(\"-------------Plucking Style Classification---------------\")\n",
        "print(\"train accu: \", train_accus.mean(), \"Std dev: \", stdev(train_accus))\n",
        "print(\"val accu: \", val_accus.mean(), \"Std dev: \", stdev(val_accus))\n",
        "print(\"test accu: \", model.score(X_test, y_test))"
      ],
      "execution_count": null,
      "outputs": [
        {
          "output_type": "stream",
          "text": [
            "-------------Plucking Style Classification---------------\n",
            "train accu:  0.9930429334586377 Std dev:  0.0008215350138467598\n",
            "val accu:  0.9217978896103896 Std dev:  0.009360659551437455\n",
            "test accu:  0.9190031152647975\n"
          ],
          "name": "stdout"
        }
      ]
    }
  ]
}