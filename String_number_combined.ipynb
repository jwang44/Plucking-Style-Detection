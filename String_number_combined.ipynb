{
  "nbformat": 4,
  "nbformat_minor": 0,
  "metadata": {
    "colab": {
      "name": "String number combined.ipynb",
      "provenance": [],
      "collapsed_sections": [
        "Tse4tfn2Ue4I",
        "8ogTbM97tyHu",
        "224GITqQJY7c",
        "TNlaUzALtyH0"
      ],
      "toc_visible": true,
      "authorship_tag": "ABX9TyPyw9SQxtysygwu0QOIDmI7",
      "include_colab_link": true
    },
    "kernelspec": {
      "name": "python3",
      "display_name": "Python 3"
    },
    "language_info": {
      "name": "python"
    }
  },
  "cells": [
    {
      "cell_type": "markdown",
      "metadata": {
        "id": "view-in-github",
        "colab_type": "text"
      },
      "source": [
        "<a href=\"https://colab.research.google.com/github/jwang44/Plucking-Style-Detection/blob/main/String_number_combined.ipynb\" target=\"_parent\"><img src=\"https://colab.research.google.com/assets/colab-badge.svg\" alt=\"Open In Colab\"/></a>"
      ]
    },
    {
      "cell_type": "code",
      "metadata": {
        "colab": {
          "base_uri": "https://localhost:8080/"
        },
        "id": "jIRN3f8QLeY0",
        "outputId": "45170881-c824-4208-bbb7-ff4f547e8aee"
      },
      "source": [
        "from google.colab import drive\n",
        "drive.mount('/content/drive')"
      ],
      "execution_count": null,
      "outputs": [
        {
          "output_type": "stream",
          "text": [
            "Mounted at /content/drive\n"
          ],
          "name": "stdout"
        }
      ]
    },
    {
      "cell_type": "markdown",
      "metadata": {
        "id": "Tse4tfn2Ue4I"
      },
      "source": [
        "#### Preparation"
      ]
    },
    {
      "cell_type": "code",
      "metadata": {
        "id": "IJbPMOX3jj7Z"
      },
      "source": [
        "import numpy as np\n",
        "import pickle\n",
        "import glob, os\n",
        "\n",
        "from collections import Counter\n",
        "from statistics import stdev"
      ],
      "execution_count": null,
      "outputs": []
    },
    {
      "cell_type": "markdown",
      "metadata": {
        "id": "8ogTbM97tyHu"
      },
      "source": [
        "#### Load features and labels of the two subsets and concatenate them"
      ]
    },
    {
      "cell_type": "code",
      "metadata": {
        "id": "4X8LdJsmtyHy"
      },
      "source": [
        "with open('/content/drive/MyDrive/dataset1_pkl/MFCC.pkl', 'rb') as file:\n",
        "    data1 = pickle.load(file)\n",
        "with open('/content/drive/MyDrive/dataset1_pkl/STR_LABEL.pkl', 'rb') as file:\n",
        "    string_labels1 = pickle.load(file)\n",
        "with open('/content/drive/MyDrive/dataset1_pkl/PITCH_LABEL.pkl', 'rb') as file:\n",
        "    pitch_labels1 = pickle.load(file)\n",
        "\n",
        "with open('/content/drive/MyDrive/dataset2_pkl_mono/MFCC.pkl', 'rb') as file:\n",
        "    data2 = pickle.load(file)\n",
        "with open('/content/drive/MyDrive/dataset2_pkl_mono/STR_LABEL.pkl', 'rb') as file:\n",
        "    string_labels2 = pickle.load(file)\n",
        "with open('/content/drive/MyDrive/dataset2_pkl_mono/PITCH_LABEL.pkl', 'rb') as file:\n",
        "    pitch_labels2 = pickle.load(file)"
      ],
      "execution_count": null,
      "outputs": []
    },
    {
      "cell_type": "code",
      "metadata": {
        "id": "1shbOg90tyHz"
      },
      "source": [
        "data1 = np.vstack(data1)\n",
        "string_labels1 = np.array(string_labels1)\n",
        "pitch_labels1 = np.array(pitch_labels1)\n",
        "\n",
        "data2 = np.vstack(data2)\n",
        "string_labels2 = np.array(string_labels2) \n",
        "pitch_labels2 = np.array(pitch_labels2)\n",
        "\n",
        "data = np.concatenate((data1, data2))\n",
        "string_labels = np.concatenate((string_labels1, string_labels2))\n",
        "pitch_labels = np.concatenate((pitch_labels1, pitch_labels2))"
      ],
      "execution_count": null,
      "outputs": []
    },
    {
      "cell_type": "markdown",
      "metadata": {
        "id": "-66pqkOh1Q_6"
      },
      "source": [
        "#### Filter the notes by removing the highest and lowest notes that can be played on only one string"
      ]
    },
    {
      "cell_type": "code",
      "metadata": {
        "id": "gvBpjs4wGXvw"
      },
      "source": [
        "# midi note numbers corresponding to highest and lowest notes that can only be played on one string\n",
        "mask = (pitch_labels>=45)&(pitch_labels<=83)\n",
        "data_filtered = data[mask]\n",
        "string_labels_filtered = string_labels[mask]\n",
        "pitch_labels_filtered = pitch_labels[mask]"
      ],
      "execution_count": null,
      "outputs": []
    },
    {
      "cell_type": "markdown",
      "metadata": {
        "id": "Vr7rUngQ1hIa"
      },
      "source": [
        "#### Save concatenated features and labels to new pickle"
      ]
    },
    {
      "cell_type": "code",
      "metadata": {
        "id": "x22dtQUWG_QV"
      },
      "source": [
        "with open('/content/drive/MyDrive/dataset1_2_pkl/MFCC.pkl', 'wb') as file:\n",
        "    pickle.dump(data_filtered, file)\n",
        "with open('/content/drive/MyDrive/dataset1_2_pkl/STR_LABEL.pkl', 'wb') as file:\n",
        "    pickle.dump(string_labels_filtered, file)\n",
        "with open('/content/drive/MyDrive/dataset1_2_pkl/PITCH_LABEL.pkl', 'wb') as file:\n",
        "    pickle.dump(pitch_labels_filtered, file)"
      ],
      "execution_count": null,
      "outputs": []
    },
    {
      "cell_type": "markdown",
      "metadata": {
        "id": "224GITqQJY7c"
      },
      "source": [
        "#### Load the features and labels"
      ]
    },
    {
      "cell_type": "code",
      "metadata": {
        "id": "EEmZpwSUtyH0"
      },
      "source": [
        "from sklearn.preprocessing import Normalizer, LabelEncoder, StandardScaler\n",
        "from sklearn.svm import SVC, LinearSVC\n",
        "from sklearn.pipeline import make_pipeline\n",
        "from sklearn.model_selection import KFold, train_test_split, GridSearchCV\n",
        "from sklearn.utils import shuffle\n",
        "from statistics import stdev"
      ],
      "execution_count": null,
      "outputs": []
    },
    {
      "cell_type": "code",
      "metadata": {
        "id": "t0IDXz86Jok5"
      },
      "source": [
        "with open('/content/drive/MyDrive/dataset1_2_pkl/MFCC.pkl', 'rb') as file:\n",
        "    data = pickle.load(file)\n",
        "with open('/content/drive/MyDrive/dataset1_2_pkl/STR_LABEL.pkl', 'rb') as file:\n",
        "    string_labels = pickle.load(file)"
      ],
      "execution_count": null,
      "outputs": []
    },
    {
      "cell_type": "code",
      "metadata": {
        "colab": {
          "base_uri": "https://localhost:8080/"
        },
        "id": "FNRd9WOr3CsK",
        "outputId": "7e907922-e1c3-4198-f43a-be0763df81a9"
      },
      "source": [
        "print(Counter(string_labels))"
      ],
      "execution_count": null,
      "outputs": [
        {
          "output_type": "stream",
          "text": [
            "Counter({4: 823, 5: 645, 2: 614, 3: 579, 6: 362, 1: 212})\n"
          ],
          "name": "stdout"
        }
      ]
    },
    {
      "cell_type": "code",
      "metadata": {
        "id": "0Af6fD6Ze8FZ"
      },
      "source": [
        "le = LabelEncoder()\n",
        "string_labels = le.fit_transform(string_labels) # convert category from string to numerical"
      ],
      "execution_count": null,
      "outputs": []
    },
    {
      "cell_type": "markdown",
      "metadata": {
        "id": "TNlaUzALtyH0"
      },
      "source": [
        "#### Train string number classifier"
      ]
    },
    {
      "cell_type": "code",
      "metadata": {
        "id": "qIBUoA4A4oV6"
      },
      "source": [
        "# split into train and test\n",
        "X = data\n",
        "y = string_labels\n",
        "X_train, X_test, y_train, y_test = train_test_split(X, y, test_size=0.2, shuffle=True, random_state=42)"
      ],
      "execution_count": null,
      "outputs": []
    },
    {
      "cell_type": "code",
      "metadata": {
        "id": "WUapiVOZ8Ohh",
        "colab": {
          "base_uri": "https://localhost:8080/"
        },
        "outputId": "dc186dfd-2d79-484d-fc6c-8bff1ca9dee3"
      },
      "source": [
        "model = make_pipeline(StandardScaler(), SVC())\n",
        "parameters = {\n",
        "    'svc__kernel': ['linear', 'poly', 'rbf', 'sigmoid'], \n",
        "    'svc__C':[0.2, 1, 5], \n",
        "    'svc__gamma': ['scale', 'auto']\n",
        "    }\n",
        "clf = GridSearchCV(model, parameters, n_jobs=-1, refit=True, cv=10, return_train_score=True)\n",
        "clf.fit(X_train, y_train)"
      ],
      "execution_count": null,
      "outputs": [
        {
          "output_type": "execute_result",
          "data": {
            "text/plain": [
              "GridSearchCV(cv=10, error_score=nan,\n",
              "             estimator=Pipeline(memory=None,\n",
              "                                steps=[('standardscaler',\n",
              "                                        StandardScaler(copy=True,\n",
              "                                                       with_mean=True,\n",
              "                                                       with_std=True)),\n",
              "                                       ('svc',\n",
              "                                        SVC(C=1.0, break_ties=False,\n",
              "                                            cache_size=200, class_weight=None,\n",
              "                                            coef0=0.0,\n",
              "                                            decision_function_shape='ovr',\n",
              "                                            degree=3, gamma='scale',\n",
              "                                            kernel='rbf', max_iter=-1,\n",
              "                                            probability=False,\n",
              "                                            random_state=None, shrinking=True,\n",
              "                                            tol=0.001, verbose=False))],\n",
              "                                verbose=False),\n",
              "             iid='deprecated', n_jobs=-1,\n",
              "             param_grid={'svc__C': [0.2, 1, 5], 'svc__gamma': ['scale', 'auto'],\n",
              "                         'svc__kernel': ['linear', 'poly', 'rbf', 'sigmoid']},\n",
              "             pre_dispatch='2*n_jobs', refit=True, return_train_score=True,\n",
              "             scoring=None, verbose=0)"
            ]
          },
          "metadata": {
            "tags": []
          },
          "execution_count": 104
        }
      ]
    },
    {
      "cell_type": "code",
      "metadata": {
        "colab": {
          "base_uri": "https://localhost:8080/"
        },
        "id": "ZKQzsCJP2nqU",
        "outputId": "b2f5237c-5d35-47f9-ca3f-87123b7fed79"
      },
      "source": [
        "clf.score(X_test, y_test)"
      ],
      "execution_count": null,
      "outputs": [
        {
          "output_type": "execute_result",
          "data": {
            "text/plain": [
              "0.9149922720247295"
            ]
          },
          "metadata": {
            "tags": []
          },
          "execution_count": 106
        }
      ]
    },
    {
      "cell_type": "code",
      "metadata": {
        "colab": {
          "base_uri": "https://localhost:8080/"
        },
        "id": "k7m4cxZYQb_I",
        "outputId": "16f42159-7e8a-4bd1-f9bd-ecfd01fe97d9"
      },
      "source": [
        "Counter(y_test)"
      ],
      "execution_count": null,
      "outputs": [
        {
          "output_type": "execute_result",
          "data": {
            "text/plain": [
              "Counter({0: 58, 1: 119, 2: 128, 3: 153, 4: 123, 5: 66})"
            ]
          },
          "metadata": {
            "tags": []
          },
          "execution_count": 107
        }
      ]
    },
    {
      "cell_type": "code",
      "metadata": {
        "colab": {
          "base_uri": "https://localhost:8080/"
        },
        "id": "7gz5i49E_Px5",
        "outputId": "fa34d787-f843-43eb-a424-b54b209a609c"
      },
      "source": [
        "clf.best_params_"
      ],
      "execution_count": null,
      "outputs": [
        {
          "output_type": "execute_result",
          "data": {
            "text/plain": [
              "{'svc__C': 5, 'svc__gamma': 'scale', 'svc__kernel': 'rbf'}"
            ]
          },
          "metadata": {
            "tags": []
          },
          "execution_count": 110
        }
      ]
    },
    {
      "cell_type": "code",
      "metadata": {
        "id": "fsjB2pJ8tyH4",
        "colab": {
          "base_uri": "https://localhost:8080/"
        },
        "outputId": "f923c56c-667e-4405-9888-20f5e31c498a"
      },
      "source": [
        "# Sanity check use normal Kfold\n",
        "X = X_train\n",
        "y = y_train\n",
        "model = make_pipeline(StandardScaler(), SVC(C=5, gamma='scale'))\n",
        "kf = KFold(n_splits=10, shuffle=True, random_state=42)\n",
        "train_accus = []\n",
        "val_accus = []\n",
        "for train_index, val_index in kf.split(X):\n",
        "    X_train, X_val = X[train_index], X[val_index]\n",
        "    y_train, y_val = y[train_index], y[val_index]\n",
        "    model.fit(X_train, y_train)\n",
        "    train_accus.append(model.score(X_train, y_train))\n",
        "    val_accus.append(model.score(X_val, y_val))\n",
        "train_accus = np.array(train_accus)\n",
        "val_accus = np.array(val_accus)\n",
        "print(\"-------------String Number Classification---------------\")\n",
        "print(\"train accu: \", train_accus.mean(), \"Std dev: \", stdev(train_accus))\n",
        "print(\"val accu: \", val_accus.mean(), \"Std dev: \", stdev(val_accus))\n",
        "print(\"test accu: \", model.score(X_test, y_test))"
      ],
      "execution_count": null,
      "outputs": [
        {
          "output_type": "stream",
          "text": [
            "-------------String Number Classification---------------\n",
            "train accu:  0.9935599467066674 Std dev:  0.0010323643242986869\n",
            "val accu:  0.9049325072580887 Std dev:  0.023764531244855117\n",
            "test accu:  0.9149922720247295\n"
          ],
          "name": "stdout"
        }
      ]
    },
    {
      "cell_type": "code",
      "metadata": {
        "colab": {
          "base_uri": "https://localhost:8080/",
          "height": 296
        },
        "id": "3syDS88QDUGH",
        "outputId": "64c1209c-4f94-4d6e-e719-157e5896094e"
      },
      "source": [
        "from sklearn.metrics import confusion_matrix, plot_confusion_matrix\n",
        "plot_confusion_matrix(model, X_test, y_test, display_labels=[1,2,3,4,5,6], values_format='d')  "
      ],
      "execution_count": null,
      "outputs": [
        {
          "output_type": "execute_result",
          "data": {
            "text/plain": [
              "<sklearn.metrics._plot.confusion_matrix.ConfusionMatrixDisplay at 0x7fd784efba10>"
            ]
          },
          "metadata": {
            "tags": []
          },
          "execution_count": 10
        },
        {
          "output_type": "display_data",
          "data": {
            "image/png": "[encoded data removed]",
            "text/plain": [
              "<Figure size 432x288 with 2 Axes>"
            ]
          },
          "metadata": {
            "tags": [],
            "needs_background": "light"
          }
        }
      ]
    }
  ]
}